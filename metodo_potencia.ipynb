{
 "cells": [
  {
   "cell_type": "markdown",
   "metadata": {},
   "source": [
    "# Método Potencia"
   ]
  },
  {
   "cell_type": "markdown",
   "metadata": {},
   "source": [
    "## Código"
   ]
  },
  {
   "cell_type": "markdown",
   "metadata": {},
   "source": [
    "### importaciones"
   ]
  },
  {
   "cell_type": "code",
   "execution_count": null,
   "metadata": {},
   "outputs": [],
   "source": [
    "import numpy as np"
   ]
  },
  {
   "cell_type": "markdown",
   "metadata": {},
   "source": [
    "### Definición de funciones"
   ]
  },
  {
   "cell_type": "code",
   "execution_count": null,
   "metadata": {},
   "outputs": [],
   "source": [
    "def norma(x) -> float:\n",
    "    M: float = 0\n",
    "    for x_i in x:\n",
    "        if abs(x_i) > M:\n",
    "            M = abs(x_i)\n",
    "    return M\n",
    "\n",
    "\n",
    "def encontrar_p(n:int, x, norma: float) -> float:\n",
    "    p: int = 0\n",
    "    for i in range(n):\n",
    "        if norma == abs(x[i]):\n",
    "            p = i\n",
    "            break\n",
    "    return p"
   ]
  },
  {
   "cell_type": "markdown",
   "metadata": {},
   "source": [
    "### Definición del Método\n"
   ]
  },
  {
   "cell_type": "code",
   "execution_count": null,
   "metadata": {},
   "outputs": [],
   "source": [
    "def metodo_potencia(N:int,n:int,A,x, tol:float):\n",
    "    norm: float = norma(x)\n",
    "    p=encontrar_p(n,x,norm)\n",
    "    x_p = x[p]\n",
    "    err : float\n",
    "\n",
    "    # paso todo a numpy\n",
    "    A = np.array(A)\n",
    "    x = np.array(x)\n",
    "\n",
    "    x = x/x_p\n",
    "\n",
    "    # paso 4:\n",
    "\n",
    "    for _ in range(N):\n",
    "\n",
    "        y = A @ x\n",
    "\n",
    "        nueva_p = encontrar_p(n,y,norm)\n",
    "        y_p = y[nueva_p]\n",
    "        mu = y_p\n",
    "\n",
    "        if y_p == 0:\n",
    "            return f\"Autovector: {x} \\nA tiene el autovalor 0.\"\n",
    "        else:\n",
    "            err = norma(x-(y/y_p))\n",
    "            x = y/y_p\n",
    "            if err < tol:\n",
    "                return f\"El procedimiento fue exitoso: \\nEl autovalor es: {float(mu)}, y el autovector es {x}.\"\n",
    "\n",
    "    return f\"Número máximo de iteraciones excedido. \\nEl procedimiento no fue exitoso.\""
   ]
  },
  {
   "cell_type": "markdown",
   "metadata": {},
   "source": [
    "## Casos de prueba"
   ]
  },
  {
   "cell_type": "markdown",
   "metadata": {},
   "source": [
    "### Caso del libro"
   ]
  },
  {
   "cell_type": "code",
   "execution_count": null,
   "metadata": {},
   "outputs": [],
   "source": [
    "N: int = 500\n",
    "A = [[1,1,2],[2,1,1],[1,1,3]]\n",
    "n: int = len(A)\n",
    "x = [1, 1, 1]\n",
    "tol: float = 10**(-16)\n",
    "\n",
    "salida = metodo_potencia(N, n, A, x, tol)\n",
    "\n",
    "print(salida)"
   ]
  },
  {
   "cell_type": "markdown",
   "metadata": {},
   "source": [
    "### caso 1"
   ]
  },
  {
   "cell_type": "code",
   "execution_count": null,
   "metadata": {},
   "outputs": [],
   "source": [
    "N: int = 500\n",
    "A = [[1,1,2],[2,1,1],[1,1,3]]\n",
    "n: int = len(A)\n",
    "x = [1, 1, 1]\n",
    "tol: float = 10**(-16)\n",
    "\n",
    "salida = metodo_potencia(N, n, A, x, tol)\n",
    "\n",
    "print(salida)"
   ]
  }
 ],
 "metadata": {
  "language_info": {
   "name": "python"
  }
 },
 "nbformat": 4,
 "nbformat_minor": 2
}
